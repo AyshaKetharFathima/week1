{
 "cells": [
  {
   "cell_type": "code",
   "execution_count": 11,
   "id": "2450e142-76d2-4195-ba64-a48facf727bd",
   "metadata": {},
   "outputs": [
    {
     "data": {
      "text/html": [
       "<div>\n",
       "<style scoped>\n",
       "    .dataframe tbody tr th:only-of-type {\n",
       "        vertical-align: middle;\n",
       "    }\n",
       "\n",
       "    .dataframe tbody tr th {\n",
       "        vertical-align: top;\n",
       "    }\n",
       "\n",
       "    .dataframe thead th {\n",
       "        text-align: right;\n",
       "    }\n",
       "</style>\n",
       "<table border=\"1\" class=\"dataframe\">\n",
       "  <thead>\n",
       "    <tr style=\"text-align: right;\">\n",
       "      <th></th>\n",
       "      <th>City</th>\n",
       "      <th>AQI</th>\n",
       "      <th>PM2.5</th>\n",
       "      <th>PM10</th>\n",
       "      <th>O3</th>\n",
       "      <th>NO2</th>\n",
       "      <th>SO2</th>\n",
       "      <th>CO</th>\n",
       "      <th>Latitude</th>\n",
       "      <th>Longitude</th>\n",
       "      <th>Time</th>\n",
       "    </tr>\n",
       "  </thead>\n",
       "  <tbody>\n",
       "    <tr>\n",
       "      <th>0</th>\n",
       "      <td>Gulzarpet, Anantapur, India</td>\n",
       "      <td>92</td>\n",
       "      <td>92.0</td>\n",
       "      <td>39.0</td>\n",
       "      <td>22.2</td>\n",
       "      <td>4.4</td>\n",
       "      <td>3.3</td>\n",
       "      <td>4.5</td>\n",
       "      <td>14.675886</td>\n",
       "      <td>77.593027</td>\n",
       "      <td>2024-04-25 14:00:00</td>\n",
       "    </tr>\n",
       "    <tr>\n",
       "      <th>1</th>\n",
       "      <td>Anand Kala Kshetram, Rajamahendravaram, India</td>\n",
       "      <td>55</td>\n",
       "      <td>55.0</td>\n",
       "      <td>52.0</td>\n",
       "      <td>12.7</td>\n",
       "      <td>10.7</td>\n",
       "      <td>4.9</td>\n",
       "      <td>6.0</td>\n",
       "      <td>16.987287</td>\n",
       "      <td>81.736318</td>\n",
       "      <td>2024-04-25 14:00:00</td>\n",
       "    </tr>\n",
       "    <tr>\n",
       "      <th>2</th>\n",
       "      <td>Tirumala-APPCB, Tirupati, India</td>\n",
       "      <td>112</td>\n",
       "      <td>112.0</td>\n",
       "      <td>61.0</td>\n",
       "      <td>31.3</td>\n",
       "      <td>8.8</td>\n",
       "      <td>4.1</td>\n",
       "      <td>6.9</td>\n",
       "      <td>13.670000</td>\n",
       "      <td>79.350000</td>\n",
       "      <td>2024-04-25 14:00:00</td>\n",
       "    </tr>\n",
       "    <tr>\n",
       "      <th>3</th>\n",
       "      <td>PWD Grounds, Vijayawada, India</td>\n",
       "      <td>-</td>\n",
       "      <td>52.0</td>\n",
       "      <td>NaN</td>\n",
       "      <td>5.1</td>\n",
       "      <td>0.7</td>\n",
       "      <td>4.9</td>\n",
       "      <td>4.2</td>\n",
       "      <td>16.507014</td>\n",
       "      <td>80.627767</td>\n",
       "      <td>2020-11-19 16:00:00</td>\n",
       "    </tr>\n",
       "    <tr>\n",
       "      <th>4</th>\n",
       "      <td>Naharlagun, Naharlagun, India</td>\n",
       "      <td>51</td>\n",
       "      <td>51.0</td>\n",
       "      <td>20.0</td>\n",
       "      <td>1.0</td>\n",
       "      <td>1.1</td>\n",
       "      <td>1.6</td>\n",
       "      <td>2.1</td>\n",
       "      <td>27.103358</td>\n",
       "      <td>93.679645</td>\n",
       "      <td>2024-04-25 13:00:00</td>\n",
       "    </tr>\n",
       "  </tbody>\n",
       "</table>\n",
       "</div>"
      ],
      "text/plain": [
       "                                            City  AQI  PM2.5  PM10    O3  \\\n",
       "0                    Gulzarpet, Anantapur, India   92   92.0  39.0  22.2   \n",
       "1  Anand Kala Kshetram, Rajamahendravaram, India   55   55.0  52.0  12.7   \n",
       "2                Tirumala-APPCB, Tirupati, India  112  112.0  61.0  31.3   \n",
       "3                 PWD Grounds, Vijayawada, India    -   52.0   NaN   5.1   \n",
       "4                  Naharlagun, Naharlagun, India   51   51.0  20.0   1.0   \n",
       "\n",
       "    NO2  SO2   CO   Latitude  Longitude                 Time  \n",
       "0   4.4  3.3  4.5  14.675886  77.593027  2024-04-25 14:00:00  \n",
       "1  10.7  4.9  6.0  16.987287  81.736318  2024-04-25 14:00:00  \n",
       "2   8.8  4.1  6.9  13.670000  79.350000  2024-04-25 14:00:00  \n",
       "3   0.7  4.9  4.2  16.507014  80.627767  2020-11-19 16:00:00  \n",
       "4   1.1  1.6  2.1  27.103358  93.679645  2024-04-25 13:00:00  "
      ]
     },
     "execution_count": 11,
     "metadata": {},
     "output_type": "execute_result"
    }
   ],
   "source": [
    "# data unerstanding and preprocessing\n",
    "import pandas as pd\n",
    "df = pd.read_csv(\"air_quality.csv\")\n",
    "df.head()\n"
   ]
  },
  {
   "cell_type": "code",
   "execution_count": 7,
   "id": "275e6ae1-6eb1-4997-bcc1-adc9e4155ae3",
   "metadata": {},
   "outputs": [],
   "source": [
    "import pandas as pd\n",
    "\n",
    "# Load your Excel file\n",
    "df = pd.read_excel(\"air_quality.xlsx\")\n",
    "\n",
    "# Save it as CSV\n",
    "df.to_csv(\"air_quality.csv\", index=False)\n"
   ]
  },
  {
   "cell_type": "code",
   "execution_count": 13,
   "id": "e53e4950-94e5-4e1c-a676-606c1344d637",
   "metadata": {},
   "outputs": [
    {
     "name": "stdout",
     "output_type": "stream",
     "text": [
      "<class 'pandas.core.frame.DataFrame'>\n",
      "RangeIndex: 153 entries, 0 to 152\n",
      "Data columns (total 11 columns):\n",
      " #   Column     Non-Null Count  Dtype  \n",
      "---  ------     --------------  -----  \n",
      " 0   City       153 non-null    object \n",
      " 1   AQI        153 non-null    object \n",
      " 2   PM2.5      148 non-null    float64\n",
      " 3   PM10       137 non-null    float64\n",
      " 4   O3         132 non-null    float64\n",
      " 5   NO2        141 non-null    float64\n",
      " 6   SO2        137 non-null    float64\n",
      " 7   CO         133 non-null    float64\n",
      " 8   Latitude   153 non-null    float64\n",
      " 9   Longitude  153 non-null    float64\n",
      " 10  Time       152 non-null    object \n",
      "dtypes: float64(8), object(3)\n",
      "memory usage: 13.3+ KB\n"
     ]
    },
    {
     "data": {
      "text/html": [
       "<div>\n",
       "<style scoped>\n",
       "    .dataframe tbody tr th:only-of-type {\n",
       "        vertical-align: middle;\n",
       "    }\n",
       "\n",
       "    .dataframe tbody tr th {\n",
       "        vertical-align: top;\n",
       "    }\n",
       "\n",
       "    .dataframe thead th {\n",
       "        text-align: right;\n",
       "    }\n",
       "</style>\n",
       "<table border=\"1\" class=\"dataframe\">\n",
       "  <thead>\n",
       "    <tr style=\"text-align: right;\">\n",
       "      <th></th>\n",
       "      <th>PM2.5</th>\n",
       "      <th>PM10</th>\n",
       "      <th>O3</th>\n",
       "      <th>NO2</th>\n",
       "      <th>SO2</th>\n",
       "      <th>CO</th>\n",
       "      <th>Latitude</th>\n",
       "      <th>Longitude</th>\n",
       "    </tr>\n",
       "  </thead>\n",
       "  <tbody>\n",
       "    <tr>\n",
       "      <th>count</th>\n",
       "      <td>148.000000</td>\n",
       "      <td>137.000000</td>\n",
       "      <td>132.00000</td>\n",
       "      <td>141.000000</td>\n",
       "      <td>137.000000</td>\n",
       "      <td>133.000000</td>\n",
       "      <td>153.000000</td>\n",
       "      <td>153.000000</td>\n",
       "    </tr>\n",
       "    <tr>\n",
       "      <th>mean</th>\n",
       "      <td>106.479730</td>\n",
       "      <td>93.452555</td>\n",
       "      <td>23.24697</td>\n",
       "      <td>8.519149</td>\n",
       "      <td>10.085401</td>\n",
       "      <td>5.966165</td>\n",
       "      <td>24.192362</td>\n",
       "      <td>77.217847</td>\n",
       "    </tr>\n",
       "    <tr>\n",
       "      <th>std</th>\n",
       "      <td>79.246148</td>\n",
       "      <td>129.012937</td>\n",
       "      <td>17.91751</td>\n",
       "      <td>17.205331</td>\n",
       "      <td>20.267536</td>\n",
       "      <td>5.651788</td>\n",
       "      <td>7.923463</td>\n",
       "      <td>22.282408</td>\n",
       "    </tr>\n",
       "    <tr>\n",
       "      <th>min</th>\n",
       "      <td>9.000000</td>\n",
       "      <td>4.000000</td>\n",
       "      <td>1.00000</td>\n",
       "      <td>0.100000</td>\n",
       "      <td>0.200000</td>\n",
       "      <td>0.100000</td>\n",
       "      <td>8.514909</td>\n",
       "      <td>-123.005934</td>\n",
       "    </tr>\n",
       "    <tr>\n",
       "      <th>25%</th>\n",
       "      <td>59.000000</td>\n",
       "      <td>46.000000</td>\n",
       "      <td>8.17500</td>\n",
       "      <td>2.700000</td>\n",
       "      <td>3.100000</td>\n",
       "      <td>3.200000</td>\n",
       "      <td>20.007328</td>\n",
       "      <td>75.905200</td>\n",
       "    </tr>\n",
       "    <tr>\n",
       "      <th>50%</th>\n",
       "      <td>87.000000</td>\n",
       "      <td>61.000000</td>\n",
       "      <td>18.10000</td>\n",
       "      <td>5.800000</td>\n",
       "      <td>5.100000</td>\n",
       "      <td>4.500000</td>\n",
       "      <td>25.204762</td>\n",
       "      <td>77.984321</td>\n",
       "    </tr>\n",
       "    <tr>\n",
       "      <th>75%</th>\n",
       "      <td>126.250000</td>\n",
       "      <td>86.000000</td>\n",
       "      <td>35.07500</td>\n",
       "      <td>10.000000</td>\n",
       "      <td>9.600000</td>\n",
       "      <td>7.200000</td>\n",
       "      <td>28.406963</td>\n",
       "      <td>84.663264</td>\n",
       "    </tr>\n",
       "    <tr>\n",
       "      <th>max</th>\n",
       "      <td>511.000000</td>\n",
       "      <td>954.000000</td>\n",
       "      <td>81.60000</td>\n",
       "      <td>198.000000</td>\n",
       "      <td>216.600000</td>\n",
       "      <td>51.000000</td>\n",
       "      <td>53.589040</td>\n",
       "      <td>142.947970</td>\n",
       "    </tr>\n",
       "  </tbody>\n",
       "</table>\n",
       "</div>"
      ],
      "text/plain": [
       "            PM2.5        PM10         O3         NO2         SO2          CO  \\\n",
       "count  148.000000  137.000000  132.00000  141.000000  137.000000  133.000000   \n",
       "mean   106.479730   93.452555   23.24697    8.519149   10.085401    5.966165   \n",
       "std     79.246148  129.012937   17.91751   17.205331   20.267536    5.651788   \n",
       "min      9.000000    4.000000    1.00000    0.100000    0.200000    0.100000   \n",
       "25%     59.000000   46.000000    8.17500    2.700000    3.100000    3.200000   \n",
       "50%     87.000000   61.000000   18.10000    5.800000    5.100000    4.500000   \n",
       "75%    126.250000   86.000000   35.07500   10.000000    9.600000    7.200000   \n",
       "max    511.000000  954.000000   81.60000  198.000000  216.600000   51.000000   \n",
       "\n",
       "         Latitude   Longitude  \n",
       "count  153.000000  153.000000  \n",
       "mean    24.192362   77.217847  \n",
       "std      7.923463   22.282408  \n",
       "min      8.514909 -123.005934  \n",
       "25%     20.007328   75.905200  \n",
       "50%     25.204762   77.984321  \n",
       "75%     28.406963   84.663264  \n",
       "max     53.589040  142.947970  "
      ]
     },
     "execution_count": 13,
     "metadata": {},
     "output_type": "execute_result"
    }
   ],
   "source": [
    "df.info()\n",
    "df.describe()\n"
   ]
  },
  {
   "cell_type": "code",
   "execution_count": 19,
   "id": "919f1a59-a535-475c-8731-05fa7d07debf",
   "metadata": {},
   "outputs": [
    {
     "data": {
      "text/plain": [
       "City          0\n",
       "AQI           0\n",
       "PM2.5         5\n",
       "PM10         16\n",
       "O3           21\n",
       "NO2          12\n",
       "SO2          16\n",
       "CO           20\n",
       "Latitude      0\n",
       "Longitude     0\n",
       "Time          1\n",
       "dtype: int64"
      ]
     },
     "execution_count": 19,
     "metadata": {},
     "output_type": "execute_result"
    }
   ],
   "source": [
    "df.isnull().sum()"
   ]
  },
  {
   "cell_type": "code",
   "execution_count": 49,
   "id": "97a5447b-0e60-4cfb-a908-2471fa31d777",
   "metadata": {},
   "outputs": [
    {
     "name": "stderr",
     "output_type": "stream",
     "text": [
      "C:\\Users\\abdul\\AppData\\Local\\Temp\\ipykernel_12964\\3190988350.py:1: FutureWarning: A value is trying to be set on a copy of a DataFrame or Series through chained assignment using an inplace method.\n",
      "The behavior will change in pandas 3.0. This inplace method will never work because the intermediate object on which we are setting values always behaves as a copy.\n",
      "\n",
      "For example, when doing 'df[col].method(value, inplace=True)', try using 'df.method({col: value}, inplace=True)' or df[col] = df[col].method(value) instead, to perform the operation inplace on the original object.\n",
      "\n",
      "\n",
      "  df['PM2.5'].fillna(df['PM2.5'].mean(), inplace=True)\n",
      "C:\\Users\\abdul\\AppData\\Local\\Temp\\ipykernel_12964\\3190988350.py:2: FutureWarning: A value is trying to be set on a copy of a DataFrame or Series through chained assignment using an inplace method.\n",
      "The behavior will change in pandas 3.0. This inplace method will never work because the intermediate object on which we are setting values always behaves as a copy.\n",
      "\n",
      "For example, when doing 'df[col].method(value, inplace=True)', try using 'df.method({col: value}, inplace=True)' or df[col] = df[col].method(value) instead, to perform the operation inplace on the original object.\n",
      "\n",
      "\n",
      "  df['PM10'].fillna(df['PM10'].mean(), inplace=True)\n",
      "C:\\Users\\abdul\\AppData\\Local\\Temp\\ipykernel_12964\\3190988350.py:3: FutureWarning: A value is trying to be set on a copy of a DataFrame or Series through chained assignment using an inplace method.\n",
      "The behavior will change in pandas 3.0. This inplace method will never work because the intermediate object on which we are setting values always behaves as a copy.\n",
      "\n",
      "For example, when doing 'df[col].method(value, inplace=True)', try using 'df.method({col: value}, inplace=True)' or df[col] = df[col].method(value) instead, to perform the operation inplace on the original object.\n",
      "\n",
      "\n",
      "  df['O3'].fillna(df['O3'].mean(), inplace=True)\n",
      "C:\\Users\\abdul\\AppData\\Local\\Temp\\ipykernel_12964\\3190988350.py:4: FutureWarning: A value is trying to be set on a copy of a DataFrame or Series through chained assignment using an inplace method.\n",
      "The behavior will change in pandas 3.0. This inplace method will never work because the intermediate object on which we are setting values always behaves as a copy.\n",
      "\n",
      "For example, when doing 'df[col].method(value, inplace=True)', try using 'df.method({col: value}, inplace=True)' or df[col] = df[col].method(value) instead, to perform the operation inplace on the original object.\n",
      "\n",
      "\n",
      "  df['NO2'].fillna(df['NO2'].mean(), inplace=True)\n",
      "C:\\Users\\abdul\\AppData\\Local\\Temp\\ipykernel_12964\\3190988350.py:5: FutureWarning: A value is trying to be set on a copy of a DataFrame or Series through chained assignment using an inplace method.\n",
      "The behavior will change in pandas 3.0. This inplace method will never work because the intermediate object on which we are setting values always behaves as a copy.\n",
      "\n",
      "For example, when doing 'df[col].method(value, inplace=True)', try using 'df.method({col: value}, inplace=True)' or df[col] = df[col].method(value) instead, to perform the operation inplace on the original object.\n",
      "\n",
      "\n",
      "  df['SO2'].fillna(df['SO2'].mean(), inplace=True)\n",
      "C:\\Users\\abdul\\AppData\\Local\\Temp\\ipykernel_12964\\3190988350.py:6: FutureWarning: A value is trying to be set on a copy of a DataFrame or Series through chained assignment using an inplace method.\n",
      "The behavior will change in pandas 3.0. This inplace method will never work because the intermediate object on which we are setting values always behaves as a copy.\n",
      "\n",
      "For example, when doing 'df[col].method(value, inplace=True)', try using 'df.method({col: value}, inplace=True)' or df[col] = df[col].method(value) instead, to perform the operation inplace on the original object.\n",
      "\n",
      "\n",
      "  df['CO'].fillna(df['CO'].mean(), inplace=True)\n"
     ]
    }
   ],
   "source": [
    "df['PM2.5'].fillna(df['PM2.5'].mean(), inplace=True)\n",
    "df['PM10'].fillna(df['PM10'].mean(), inplace=True)\n",
    "df['O3'].fillna(df['O3'].mean(), inplace=True)\n",
    "df['NO2'].fillna(df['NO2'].mean(), inplace=True)\n",
    "df['SO2'].fillna(df['SO2'].mean(), inplace=True)\n",
    "df['CO'].fillna(df['CO'].mean(), inplace=True)\n"
   ]
  },
  {
   "cell_type": "code",
   "execution_count": 23,
   "id": "61e28c2a-4828-4a3a-8c12-2c34f2b67916",
   "metadata": {},
   "outputs": [
    {
     "data": {
      "text/plain": [
       "City         0\n",
       "AQI          0\n",
       "PM2.5        0\n",
       "PM10         0\n",
       "O3           0\n",
       "NO2          0\n",
       "SO2          0\n",
       "CO           0\n",
       "Latitude     0\n",
       "Longitude    0\n",
       "Time         1\n",
       "dtype: int64"
      ]
     },
     "execution_count": 23,
     "metadata": {},
     "output_type": "execute_result"
    }
   ],
   "source": [
    "df.isnull().sum()\n"
   ]
  },
  {
   "cell_type": "code",
   "execution_count": 25,
   "id": "89be89bc-6df1-4004-b7cf-6726d56d830e",
   "metadata": {},
   "outputs": [
    {
     "name": "stderr",
     "output_type": "stream",
     "text": [
      "C:\\Users\\abdul\\AppData\\Local\\Temp\\ipykernel_12964\\1475440856.py:1: FutureWarning: A value is trying to be set on a copy of a DataFrame or Series through chained assignment using an inplace method.\n",
      "The behavior will change in pandas 3.0. This inplace method will never work because the intermediate object on which we are setting values always behaves as a copy.\n",
      "\n",
      "For example, when doing 'df[col].method(value, inplace=True)', try using 'df.method({col: value}, inplace=True)' or df[col] = df[col].method(value) instead, to perform the operation inplace on the original object.\n",
      "\n",
      "\n",
      "  df['Time'].fillna(method='ffill', inplace=True)\n",
      "C:\\Users\\abdul\\AppData\\Local\\Temp\\ipykernel_12964\\1475440856.py:1: FutureWarning: Series.fillna with 'method' is deprecated and will raise in a future version. Use obj.ffill() or obj.bfill() instead.\n",
      "  df['Time'].fillna(method='ffill', inplace=True)\n"
     ]
    }
   ],
   "source": [
    "df['Time'].fillna(method='ffill', inplace=True)\n"
   ]
  },
  {
   "cell_type": "code",
   "execution_count": 27,
   "id": "cdd07c6c-c5c2-46e4-b37a-7899731d3392",
   "metadata": {},
   "outputs": [],
   "source": [
    "df.drop_duplicates(inplace=True)\n"
   ]
  },
  {
   "cell_type": "code",
   "execution_count": 31,
   "id": "bb6a0e49-e54d-4f63-9647-601912f85e73",
   "metadata": {},
   "outputs": [
    {
     "name": "stdout",
     "output_type": "stream",
     "text": [
      "Index(['City', 'AQI', 'PM2.5', 'PM10', 'O3', 'NO2', 'SO2', 'CO', 'Latitude',\n",
      "       'Longitude', 'Time'],\n",
      "      dtype='object')\n"
     ]
    }
   ],
   "source": [
    "print(df.columns)\n",
    "\n"
   ]
  },
  {
   "cell_type": "code",
   "execution_count": 33,
   "id": "6af1ac6c-729f-4344-907e-9be472eb9074",
   "metadata": {},
   "outputs": [],
   "source": [
    "df['Time'] = pd.to_datetime(df['Time'])\n"
   ]
  },
  {
   "cell_type": "code",
   "execution_count": 37,
   "id": "ae9823e7-32bc-4dc4-8bbc-b8552decee42",
   "metadata": {},
   "outputs": [
    {
     "data": {
      "text/plain": [
       "<Axes: xlabel='PM2.5'>"
      ]
     },
     "execution_count": 37,
     "metadata": {},
     "output_type": "execute_result"
    },
    {
     "data": {
      "image/png": "[encoded data removed]",
      "text/plain": [
       "<Figure size 640x480 with 1 Axes>"
      ]
     },
     "metadata": {},
     "output_type": "display_data"
    }
   ],
   "source": [
    "import seaborn as sns\n",
    "sns.boxplot(x=df['PM2.5'])\n"
   ]
  },
  {
   "cell_type": "code",
   "execution_count": 43,
   "id": "3b84e37b-390f-4476-afbf-e956ce7c2ce5",
   "metadata": {},
   "outputs": [
    {
     "name": "stdout",
     "output_type": "stream",
     "text": [
      "Number of outliers: 8\n"
     ]
    }
   ],
   "source": [
    "import numpy as np\n",
    "Q1 = df['PM2.5'].quantile(0.25)\n",
    "Q3 = df['PM2.5'].quantile(0.75)\n",
    "IQR = Q3 - Q1\n",
    "\n",
    "lower_bound = Q1 - 1.5 * IQR\n",
    "upper_bound = Q3 + 1.5 * IQR\n",
    "\n",
    "outliers = df[(df['PM2.5'] < lower_bound) | (df['PM2.5'] > upper_bound)]\n",
    "print(\"Number of outliers:\", len(outliers))\n",
    "\n",
    "df['PM2.5'] = np.where(df['PM2.5'] > upper_bound, upper_bound,\n",
    "                       np.where(df['PM2.5'] < lower_bound, lower_bound, df['PM2.5']))\n"
   ]
  },
  {
   "cell_type": "code",
   "execution_count": 47,
   "id": "5c14ab8f-73ae-4e86-96ce-28a18ea43008",
   "metadata": {},
   "outputs": [],
   "source": [
    "df['aqi_category'] = pd.cut(df['PM2.5'],\n",
    "                            bins=[0,50,100,200,300,500],\n",
    "                            labels=['Good','Satisfactory','Moderate','Poor','Very Poor'])\n"
   ]
  },
  {
   "cell_type": "code",
   "execution_count": 3,
   "id": "69949ba5-397e-480f-a0b5-6a71be3d3f89",
   "metadata": {},
   "outputs": [
    {
     "data": {
      "text/html": [
       "<div>\n",
       "<style scoped>\n",
       "    .dataframe tbody tr th:only-of-type {\n",
       "        vertical-align: middle;\n",
       "    }\n",
       "\n",
       "    .dataframe tbody tr th {\n",
       "        vertical-align: top;\n",
       "    }\n",
       "\n",
       "    .dataframe thead th {\n",
       "        text-align: right;\n",
       "    }\n",
       "</style>\n",
       "<table border=\"1\" class=\"dataframe\">\n",
       "  <thead>\n",
       "    <tr style=\"text-align: right;\">\n",
       "      <th></th>\n",
       "      <th>City</th>\n",
       "      <th>AQI</th>\n",
       "      <th>PM2.5</th>\n",
       "      <th>PM10</th>\n",
       "      <th>O3</th>\n",
       "      <th>NO2</th>\n",
       "      <th>SO2</th>\n",
       "      <th>CO</th>\n",
       "      <th>Latitude</th>\n",
       "      <th>Longitude</th>\n",
       "      <th>Time</th>\n",
       "    </tr>\n",
       "  </thead>\n",
       "  <tbody>\n",
       "    <tr>\n",
       "      <th>0</th>\n",
       "      <td>Gulzarpet, Anantapur, India</td>\n",
       "      <td>92</td>\n",
       "      <td>92.0</td>\n",
       "      <td>39.0</td>\n",
       "      <td>22.2</td>\n",
       "      <td>4.4</td>\n",
       "      <td>3.3</td>\n",
       "      <td>4.5</td>\n",
       "      <td>14.675886</td>\n",
       "      <td>77.593027</td>\n",
       "      <td>2024-04-25 14:00:00</td>\n",
       "    </tr>\n",
       "    <tr>\n",
       "      <th>1</th>\n",
       "      <td>Anand Kala Kshetram, Rajamahendravaram, India</td>\n",
       "      <td>55</td>\n",
       "      <td>55.0</td>\n",
       "      <td>52.0</td>\n",
       "      <td>12.7</td>\n",
       "      <td>10.7</td>\n",
       "      <td>4.9</td>\n",
       "      <td>6.0</td>\n",
       "      <td>16.987287</td>\n",
       "      <td>81.736318</td>\n",
       "      <td>2024-04-25 14:00:00</td>\n",
       "    </tr>\n",
       "    <tr>\n",
       "      <th>2</th>\n",
       "      <td>Tirumala-APPCB, Tirupati, India</td>\n",
       "      <td>112</td>\n",
       "      <td>112.0</td>\n",
       "      <td>61.0</td>\n",
       "      <td>31.3</td>\n",
       "      <td>8.8</td>\n",
       "      <td>4.1</td>\n",
       "      <td>6.9</td>\n",
       "      <td>13.670000</td>\n",
       "      <td>79.350000</td>\n",
       "      <td>2024-04-25 14:00:00</td>\n",
       "    </tr>\n",
       "    <tr>\n",
       "      <th>3</th>\n",
       "      <td>PWD Grounds, Vijayawada, India</td>\n",
       "      <td>-</td>\n",
       "      <td>52.0</td>\n",
       "      <td>NaN</td>\n",
       "      <td>5.1</td>\n",
       "      <td>0.7</td>\n",
       "      <td>4.9</td>\n",
       "      <td>4.2</td>\n",
       "      <td>16.507014</td>\n",
       "      <td>80.627767</td>\n",
       "      <td>2020-11-19 16:00:00</td>\n",
       "    </tr>\n",
       "    <tr>\n",
       "      <th>4</th>\n",
       "      <td>Naharlagun, Naharlagun, India</td>\n",
       "      <td>51</td>\n",
       "      <td>51.0</td>\n",
       "      <td>20.0</td>\n",
       "      <td>1.0</td>\n",
       "      <td>1.1</td>\n",
       "      <td>1.6</td>\n",
       "      <td>2.1</td>\n",
       "      <td>27.103358</td>\n",
       "      <td>93.679645</td>\n",
       "      <td>2024-04-25 13:00:00</td>\n",
       "    </tr>\n",
       "  </tbody>\n",
       "</table>\n",
       "</div>"
      ],
      "text/plain": [
       "                                            City  AQI  PM2.5  PM10    O3  \\\n",
       "0                    Gulzarpet, Anantapur, India   92   92.0  39.0  22.2   \n",
       "1  Anand Kala Kshetram, Rajamahendravaram, India   55   55.0  52.0  12.7   \n",
       "2                Tirumala-APPCB, Tirupati, India  112  112.0  61.0  31.3   \n",
       "3                 PWD Grounds, Vijayawada, India    -   52.0   NaN   5.1   \n",
       "4                  Naharlagun, Naharlagun, India   51   51.0  20.0   1.0   \n",
       "\n",
       "    NO2  SO2   CO   Latitude  Longitude                 Time  \n",
       "0   4.4  3.3  4.5  14.675886  77.593027  2024-04-25 14:00:00  \n",
       "1  10.7  4.9  6.0  16.987287  81.736318  2024-04-25 14:00:00  \n",
       "2   8.8  4.1  6.9  13.670000  79.350000  2024-04-25 14:00:00  \n",
       "3   0.7  4.9  4.2  16.507014  80.627767  2020-11-19 16:00:00  \n",
       "4   1.1  1.6  2.1  27.103358  93.679645  2024-04-25 13:00:00  "
      ]
     },
     "execution_count": 3,
     "metadata": {},
     "output_type": "execute_result"
    }
   ],
   "source": [
    "# Week 3 - Machine Learning Model Training for Air Quality Prediction\n",
    "\n",
    "# Import required libraries\n",
    "import pandas as pd\n",
    "import numpy as np\n",
    "import matplotlib.pyplot as plt\n",
    "import seaborn as sns\n",
    "from sklearn.model_selection import train_test_split, cross_val_score\n",
    "from sklearn.preprocessing import StandardScaler\n",
    "from sklearn.linear_model import LinearRegression\n",
    "from sklearn.tree import DecisionTreeRegressor\n",
    "from sklearn.ensemble import RandomForestRegressor\n",
    "from sklearn.metrics import mean_squared_error, r2_score\n",
    "import joblib\n",
    "\n",
    "# -------------------------------\n",
    "# 1. Load the dataset\n",
    "# -------------------------------\n",
    "df = pd.read_csv(\"air_quality.csv\")  # replace with your Week 2 cleaned dataset\n",
    "df.head()\n"
   ]
  },
  {
   "cell_type": "code",
   "execution_count": 23,
   "id": "f41dce00-bbe5-4a0e-8346-cf91220fadfb",
   "metadata": {},
   "outputs": [],
   "source": [
    "# -------------------------------\n",
    "# 2. Define Features & Target\n",
    "# -------------------------------\n",
    "# Features = pollutants (PM2.5, PM10, NO2, SO2, CO, O3)\n",
    "# Target = AQI or AQI_category\n",
    "X = df[['PM2.5', 'PM10', 'NO2', 'SO2', 'CO', 'O3']]\n",
    "y = df['AQI']   # make sure Week 2 dataset includes AQI colum\n",
    "# Split dataset\n",
    "X_train, X_test, y_train, y_test = train_test_split(X, y, test_size=0.2, random_state=42)\n"
   ]
  },
  {
   "cell_type": "code",
   "execution_count": 27,
   "id": "6b7554e3-0632-4086-a4a4-a00d58bc6658",
   "metadata": {},
   "outputs": [],
   "source": [
    "# Convert AQI to numeric, replace non-numeric (like '-') with NaN\n",
    "df['AQI'] = pd.to_numeric(df['AQI'], errors='coerce')\n",
    "\n",
    "# Now fill missing AQI with mean\n",
    "df['AQI'] = df['AQI'].fillna(df['AQI'].mean())\n",
    "\n",
    "# Target variable\n",
    "y = df['AQI']\n"
   ]
  },
  {
   "cell_type": "code",
   "execution_count": 29,
   "id": "d070a565-0792-47f9-9a93-a15bc7674866",
   "metadata": {},
   "outputs": [],
   "source": [
    "# Features (drop columns not useful for training)\n",
    "X = df.drop(columns=['AQI', 'City', 'Time'])\n",
    "\n",
    "# Fill missing values in X\n",
    "X = X.fillna(X.mean())\n"
   ]
  },
  {
   "cell_type": "code",
   "execution_count": 31,
   "id": "5d2bc479-e806-4186-b73e-c934543d9fcc",
   "metadata": {},
   "outputs": [
    {
     "name": "stdout",
     "output_type": "stream",
     "text": [
      "X shape: (153, 8)\n",
      "y shape: (153,)\n",
      "0     92.0\n",
      "1     55.0\n",
      "2    112.0\n",
      "3    120.3\n",
      "4     51.0\n",
      "Name: AQI, dtype: float64\n"
     ]
    }
   ],
   "source": [
    "print(\"X shape:\", X.shape)\n",
    "print(\"y shape:\", y.shape)\n",
    "print(df['AQI'].head())\n"
   ]
  },
  {
   "cell_type": "code",
   "execution_count": 33,
   "id": "66991070-a4ca-4b8c-a877-077fd3c5658c",
   "metadata": {},
   "outputs": [
    {
     "name": "stdout",
     "output_type": "stream",
     "text": [
      "Mean Squared Error: 694.0919607784667\n",
      "R² Score: 0.914396546594276\n"
     ]
    }
   ],
   "source": [
    "from sklearn.model_selection import train_test_split\n",
    "from sklearn.linear_model import LinearRegression\n",
    "from sklearn.metrics import mean_squared_error, r2_score\n",
    "\n",
    "# Split data (80% train, 20% test)\n",
    "X_train, X_test, y_train, y_test = train_test_split(X, y, test_size=0.2, random_state=42)\n",
    "\n",
    "# Train model\n",
    "model = LinearRegression()\n",
    "model.fit(X_train, y_train)\n",
    "\n",
    "# Predictions\n",
    "y_pred = model.predict(X_test)\n",
    "\n",
    "# Evaluate\n",
    "print(\"Mean Squared Error:\", mean_squared_error(y_test, y_pred))\n",
    "print(\"R² Score:\", r2_score(y_test, y_pred))\n",
    "\n"
   ]
  },
  {
   "cell_type": "code",
   "execution_count": 35,
   "id": "f540361a-82c1-4fb4-8a90-200984384c76",
   "metadata": {},
   "outputs": [
    {
     "name": "stdout",
     "output_type": "stream",
     "text": [
      "Random Forest Results:\n",
      "Mean Squared Error: 1734.328921483871\n",
      "R² Score: 0.7861024858234463\n"
     ]
    },
    {
     "data": {
      "image/png": "[encoded data removed]",
      "text/plain": [
       "<Figure size 800x500 with 1 Axes>"
      ]
     },
     "metadata": {},
     "output_type": "display_data"
    }
   ],
   "source": [
    "# -------------------------------\n",
    "# Week 3 - Random Forest Regressor\n",
    "# -------------------------------\n",
    "\n",
    "from sklearn.ensemble import RandomForestRegressor\n",
    "from sklearn.metrics import mean_squared_error, r2_score\n",
    "\n",
    "# Initialize Random Forest\n",
    "rf = RandomForestRegressor(n_estimators=100, random_state=42)\n",
    "\n",
    "# Train on training data\n",
    "rf.fit(X_train, y_train)\n",
    "\n",
    "# Predict on test data\n",
    "y_pred_rf = rf.predict(X_test)\n",
    "\n",
    "# Evaluate performance\n",
    "mse_rf = mean_squared_error(y_test, y_pred_rf)\n",
    "r2_rf = r2_score(y_test, y_pred_rf)\n",
    "\n",
    "print(\"Random Forest Results:\")\n",
    "print(\"Mean Squared Error:\", mse_rf)\n",
    "print(\"R² Score:\", r2_rf)\n",
    "\n",
    "# -------------------------------\n",
    "# Feature Importance\n",
    "# -------------------------------\n",
    "import matplotlib.pyplot as plt\n",
    "\n",
    "importances = rf.feature_importances_\n",
    "features = X.columns\n",
    "\n",
    "plt.figure(figsize=(8,5))\n",
    "plt.barh(features, importances)\n",
    "plt.xlabel(\"Importance\")\n",
    "plt.ylabel(\"Features\")\n",
    "plt.title(\"Feature Importance in AQI Prediction\")\n",
    "plt.show()\n"
   ]
  },
  {
   "cell_type": "code",
   "execution_count": null,
   "id": "95ea6fec-6db6-4b7a-81df-8dcd7c8c7024",
   "metadata": {},
   "outputs": [],
   "source": []
  }
 ],
 "metadata": {
  "kernelspec": {
   "display_name": "Python [conda env:base] *",
   "language": "python",
   "name": "conda-base-py"
  },
  "language_info": {
   "codemirror_mode": {
    "name": "ipython",
    "version": 3
   },
   "file_extension": ".py",
   "mimetype": "text/x-python",
   "name": "python",
   "nbconvert_exporter": "python",
   "pygments_lexer": "ipython3",
   "version": "3.12.7"
  }
 },
 "nbformat": 4,
 "nbformat_minor": 5
}
